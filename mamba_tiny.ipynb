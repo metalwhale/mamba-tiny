{
  "nbformat": 4,
  "nbformat_minor": 0,
  "metadata": {
    "colab": {
      "provenance": [],
      "gpuType": "T4"
    },
    "kernelspec": {
      "name": "python3",
      "display_name": "Python 3"
    },
    "language_info": {
      "name": "python"
    },
    "accelerator": "GPU"
  },
  "cells": [
    {
      "cell_type": "code",
      "source": [
        "%pip install datasets==2.16.0 mamba-ssm==1.1.1 accelerate==0.25.0"
      ],
      "metadata": {
        "id": "NyFgMceT_wfM"
      },
      "execution_count": null,
      "outputs": []
    },
    {
      "cell_type": "code",
      "source": [
        "# See: https://www.reddit.com/r/LocalLLaMA/comments/18da1al/an_interactive_demo_for_mambachat/\n",
        "!export LC_ALL=\"en_US.UTF-8\"\n",
        "!export LD_LIBRARY_PATH=\"/usr/lib64-nvidia\"\n",
        "!export LIBRARY_PATH=\"/usr/local/cuda/lib64/stubs\"\n",
        "!ldconfig /usr/lib64-nvidia"
      ],
      "metadata": {
        "id": "qrjS0vYf5DBI"
      },
      "execution_count": null,
      "outputs": []
    },
    {
      "cell_type": "code",
      "execution_count": 3,
      "metadata": {
        "id": "tb5OUm2u_jMZ"
      },
      "outputs": [],
      "source": [
        "from datasets import load_dataset\n",
        "from transformers import AutoTokenizer\n",
        "\n",
        "dataset = load_dataset(\"nampdn-ai/tinystories-vietnamese\", split=\"train[:1000]\")\n",
        "tokenizer = AutoTokenizer.from_pretrained(\"VietAI/gpt-neo-1.3B-vietnamese-news\")\n",
        "# dataset = load_dataset(\"roneneldan/TinyStories\", split=\"train[:1000]\")\n",
        "# tokenizer = AutoTokenizer.from_pretrained(\"EleutherAI/gpt-neox-20b\")\n",
        "tokenizer.eos_token = \"<|endoftext|>\"\n",
        "tokenizer.pad_token = tokenizer.eos_token\n",
        "\n",
        "train_dataset = dataset.map(lambda d: tokenizer(d[\"vi\"]))"
      ]
    },
    {
      "cell_type": "code",
      "source": [
        "from mamba_ssm.models.config_mamba import MambaConfig\n",
        "from mamba_ssm.models.mixer_seq_simple import MambaLMHeadModel\n",
        "\n",
        "config = MambaConfig()\n",
        "config.d_model = 256\n",
        "config.n_layer = 16\n",
        "config.vocab_size = tokenizer.vocab_size\n",
        "model = MambaLMHeadModel(config, device=\"cuda\")"
      ],
      "metadata": {
        "id": "nYCsArGC-uQo"
      },
      "execution_count": 4,
      "outputs": []
    },
    {
      "cell_type": "code",
      "source": [
        "# See: https://github.com/state-spaces/mamba/blob/1df0df1/benchmarks/benchmark_generation_mamba_simple.py\n",
        "def generate(input_text: str) -> str:\n",
        "    input_tokens = tokenizer(input_text, return_tensors=\"pt\")\n",
        "    input_ids = input_tokens.input_ids.to(\"cuda\")\n",
        "    output_ids = model.generate(input_ids, max_length=100, return_dict_in_generate=True)\n",
        "    output_text = tokenizer.batch_decode(output_ids.sequences.tolist())[0]\n",
        "    return output_text"
      ],
      "metadata": {
        "id": "6XAVGddZBNA9"
      },
      "execution_count": 5,
      "outputs": []
    },
    {
      "cell_type": "code",
      "source": [
        "import os\n",
        "import torch\n",
        "from transformers import Trainer, TrainingArguments\n",
        "\n",
        "# See: https://github.com/havenhq/mamba-chat/blob/bbc9ef6/trainer/mamba_trainer.py\n",
        "class MambaTrainer(Trainer):\n",
        "    def compute_loss(self, model, inputs, return_outputs=False):\n",
        "        input_ids = inputs.pop(\"input_ids\")\n",
        "        lm_logits = model(input_ids).logits\n",
        "        labels = input_ids.to(lm_logits.device)\n",
        "        shift_logits = lm_logits[:, :-1, :].contiguous()\n",
        "        labels = labels[:, 1:].contiguous()\n",
        "        loss_fct = torch.nn.CrossEntropyLoss()\n",
        "        lm_loss = loss_fct(shift_logits.view(-1, shift_logits.size(-1)), labels.view(-1))\n",
        "        return lm_loss\n",
        "\n",
        "    def save_model(self, output_dir, _internal_call):\n",
        "        if not os.path.exists(output_dir):\n",
        "            os.makedirs(output_dir)\n",
        "        torch.save(self.model.state_dict(), f\"{output_dir}/pytorch_model.bin\")\n",
        "        self.tokenizer.save_pretrained(output_dir)\n",
        "\n",
        "trainer = MambaTrainer(\n",
        "    model=model,\n",
        "    args=TrainingArguments(\"mamba-tiny\", logging_strategy=\"epoch\", num_train_epochs=20, report_to=\"none\"),\n",
        "    train_dataset=train_dataset, tokenizer=tokenizer,\n",
        ")\n",
        "trainer.train()"
      ],
      "metadata": {
        "colab": {
          "base_uri": "https://localhost:8080/",
          "height": 794
        },
        "id": "RpJwpTPPBGZp",
        "outputId": "3a7ee3f0-4c78-4aec-be93-0ceda616b704"
      },
      "execution_count": 6,
      "outputs": [
        {
          "output_type": "stream",
          "name": "stderr",
          "text": [
            "You're using a GPT2TokenizerFast tokenizer. Please note that with a fast tokenizer, using the `__call__` method is faster than using a method to encode the text followed by a call to the `pad` method to get a padded encoding.\n"
          ]
        },
        {
          "output_type": "display_data",
          "data": {
            "text/plain": [
              "<IPython.core.display.HTML object>"
            ],
            "text/html": [
              "\n",
              "    <div>\n",
              "      \n",
              "      <progress value='2500' max='2500' style='width:300px; height:20px; vertical-align: middle;'></progress>\n",
              "      [2500/2500 09:52, Epoch 20/20]\n",
              "    </div>\n",
              "    <table border=\"1\" class=\"dataframe\">\n",
              "  <thead>\n",
              " <tr style=\"text-align: left;\">\n",
              "      <th>Step</th>\n",
              "      <th>Training Loss</th>\n",
              "    </tr>\n",
              "  </thead>\n",
              "  <tbody>\n",
              "    <tr>\n",
              "      <td>125</td>\n",
              "      <td>7.994200</td>\n",
              "    </tr>\n",
              "    <tr>\n",
              "      <td>250</td>\n",
              "      <td>5.720100</td>\n",
              "    </tr>\n",
              "    <tr>\n",
              "      <td>375</td>\n",
              "      <td>4.286500</td>\n",
              "    </tr>\n",
              "    <tr>\n",
              "      <td>500</td>\n",
              "      <td>3.531400</td>\n",
              "    </tr>\n",
              "    <tr>\n",
              "      <td>625</td>\n",
              "      <td>3.168400</td>\n",
              "    </tr>\n",
              "    <tr>\n",
              "      <td>750</td>\n",
              "      <td>2.920700</td>\n",
              "    </tr>\n",
              "    <tr>\n",
              "      <td>875</td>\n",
              "      <td>2.762900</td>\n",
              "    </tr>\n",
              "    <tr>\n",
              "      <td>1000</td>\n",
              "      <td>2.664900</td>\n",
              "    </tr>\n",
              "    <tr>\n",
              "      <td>1125</td>\n",
              "      <td>2.533800</td>\n",
              "    </tr>\n",
              "    <tr>\n",
              "      <td>1250</td>\n",
              "      <td>2.495300</td>\n",
              "    </tr>\n",
              "    <tr>\n",
              "      <td>1375</td>\n",
              "      <td>2.325200</td>\n",
              "    </tr>\n",
              "    <tr>\n",
              "      <td>1500</td>\n",
              "      <td>2.309700</td>\n",
              "    </tr>\n",
              "    <tr>\n",
              "      <td>1625</td>\n",
              "      <td>2.232100</td>\n",
              "    </tr>\n",
              "    <tr>\n",
              "      <td>1750</td>\n",
              "      <td>2.217100</td>\n",
              "    </tr>\n",
              "    <tr>\n",
              "      <td>1875</td>\n",
              "      <td>2.188100</td>\n",
              "    </tr>\n",
              "    <tr>\n",
              "      <td>2000</td>\n",
              "      <td>2.093600</td>\n",
              "    </tr>\n",
              "    <tr>\n",
              "      <td>2125</td>\n",
              "      <td>2.059500</td>\n",
              "    </tr>\n",
              "    <tr>\n",
              "      <td>2250</td>\n",
              "      <td>2.053600</td>\n",
              "    </tr>\n",
              "    <tr>\n",
              "      <td>2375</td>\n",
              "      <td>2.037500</td>\n",
              "    </tr>\n",
              "    <tr>\n",
              "      <td>2500</td>\n",
              "      <td>2.052600</td>\n",
              "    </tr>\n",
              "  </tbody>\n",
              "</table><p>"
            ]
          },
          "metadata": {}
        },
        {
          "output_type": "execute_result",
          "data": {
            "text/plain": [
              "TrainOutput(global_step=2500, training_loss=2.982362841796875, metrics={'train_runtime': 606.1717, 'train_samples_per_second': 32.994, 'train_steps_per_second': 4.124, 'total_flos': 0.0, 'train_loss': 2.982362841796875, 'epoch': 20.0})"
            ]
          },
          "metadata": {},
          "execution_count": 6
        }
      ]
    },
    {
      "cell_type": "code",
      "source": [
        "generate(\"Trời \")"
      ],
      "metadata": {
        "colab": {
          "base_uri": "https://localhost:8080/",
          "height": 71
        },
        "id": "4GX9Ew8wFVgC",
        "outputId": "a15ee5c3-b0ec-4e3d-9934-970bf0fd2f2c"
      },
      "execution_count": 7,
      "outputs": [
        {
          "output_type": "execute_result",
          "data": {
            "text/plain": [
              "'Trời. Cô bé rất thích chơi với đồ chơi của mình. Một ngày nọ, cô bé nhìn thấy chiếc xe đồ chơi của mình và muốn cho bạn.\\nMột ngày nọ, Tim nhìn thấy một con chim nhỏ đến với nó. Con chim nói, \"Tôi có thể giúp bạn.\"\\nMột ngày nọ, một con chim nhỏ đến với cô bé đến và nói, \"Tôi không thể đi được. Nó nói, \"Tôi sẽ đi tìm bạn. Nó không thể tìm thấy nó'"
            ],
            "application/vnd.google.colaboratory.intrinsic+json": {
              "type": "string"
            }
          },
          "metadata": {},
          "execution_count": 7
        }
      ]
    },
    {
      "cell_type": "code",
      "source": [
        "# Examining\n",
        "sum(p.numel() for p in model.parameters())"
      ],
      "metadata": {
        "colab": {
          "base_uri": "https://localhost:8080/"
        },
        "id": "dEvId-HjP5Km",
        "outputId": "952f676e-00a0-47f8-aa1d-76a8ab78189f"
      },
      "execution_count": 8,
      "outputs": [
        {
          "output_type": "execute_result",
          "data": {
            "text/plain": [
              "22368512"
            ]
          },
          "metadata": {},
          "execution_count": 8
        }
      ]
    }
  ]
}